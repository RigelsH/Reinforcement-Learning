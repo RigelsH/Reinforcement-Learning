{
 "cells": [
  {
   "cell_type": "code",
   "execution_count": 108,
   "metadata": {},
   "outputs": [
    {
     "name": "stdout",
     "output_type": "stream",
     "text": [
      "The autoreload extension is already loaded. To reload it, use:\n",
      "  %reload_ext autoreload\n"
     ]
    }
   ],
   "source": [
    "%load_ext autoreload\n",
    "%autoreload 2\n",
    "\n",
    "import json\n",
    "import random\n",
    "random.seed(42)\n",
    "import numpy as np\n",
    "\n",
    "from gym_wumpus.envs import wumpusenv_from_dict\n",
    "from qlearning_agent import QlearningAgent\n",
    "from utils import id2actions\n",
    "\n",
    "import matplotlib.pyplot as plt\n",
    "%matplotlib inline\n",
    "%config InlineBackend.figure_format='retina'"
   ]
  },
  {
   "cell_type": "code",
   "execution_count": 121,
   "metadata": {},
   "outputs": [
    {
     "name": "stdout",
     "output_type": "stream",
     "text": [
      "┌───┬───┬───┬───┬───┬───┬───┐\n",
      "│   │   │   │   │  P│   │   │\n",
      "│   │   │   │   │   │   │   │\n",
      "├───┼───┼───┼───┼───┼───┼───┤\n",
      "│   │   │  P│   │   │   │ G │\n",
      "│   │   │   │   │   │   │   │\n",
      "├───┼───┼───┼───┼───┼───┼───┤\n",
      "│   │   │   │   │   │   │   │\n",
      "│   │   │   │   │   │   │   │\n",
      "├───┼───┼───┼───┼───┼───┼───┤\n",
      "│   │   │  P│   │   │   │  P│\n",
      "│   │   │   │   │   │   │   │\n",
      "├───┼───┼───┼───┼───┼───┼───┤\n",
      "│   │   │   │   │   │   │   │\n",
      "│   │   │   │   │   │   │   │\n",
      "├───┼───┼───┼───┼───┼───┼───┤\n",
      "│   │   │   │   │   │   │   │\n",
      "│   │   │   │   │   │   │   │\n",
      "├───┼───┼───┼───┼───┼───┼───┤\n",
      "│   │   │W  │   │   │   │   │\n",
      "│ @^│   │   │   │   │   │   │\n",
      "└───┴───┴───┴───┴───┴───┴───┘\n"
     ]
    }
   ],
   "source": [
    "with open('data/map05.json') as f:\n",
    "    world_json = json.load(f)\n",
    "    env = wumpusenv_from_dict(world_json)\n",
    "\n",
    "# with open('data/map_kill_to_grab.json') as f:\n",
    "#     world_json = json.load(f)\n",
    "#     env = wumpusenv_from_dict(world_json)\n",
    "\n",
    "env.render()"
   ]
  },
  {
   "cell_type": "code",
   "execution_count": 122,
   "metadata": {},
   "outputs": [
    {
     "name": "stdout",
     "output_type": "stream",
     "text": [
      "Episode 0/20000, reward -10, random actions 1, actions 5, epsilon 0.50, alpha 0.20, \n",
      "Episode 1000/20000, reward 1010, random actions 2, actions 25, epsilon 0.10, alpha 0.16, \n",
      "Episode 2000/20000, reward 1990, random actions 5, actions 37, epsilon 0.10, alpha 0.11, \n",
      "Episode 3000/20000, reward 2007.0, random actions 6, actions 40, epsilon 0.10, alpha 0.10, \n",
      "Episode 4000/20000, reward 2000, random actions 2, actions 36, epsilon 0.10, alpha 0.10, \n",
      "Episode 5000/20000, reward 1988.0, random actions 6, actions 41, epsilon 0.10, alpha 0.10, \n",
      "Episode 6000/20000, reward 1937.0, random actions 6, actions 38, epsilon 0.10, alpha 0.10, \n",
      "Episode 7000/20000, reward 1895, random actions 9, actions 44, epsilon 0.10, alpha 0.10, \n",
      "Episode 8000/20000, reward 1959.0, random actions 1, actions 34, epsilon 0.10, alpha 0.10, \n",
      "Episode 9000/20000, reward 1958.0, random actions 2, actions 35, epsilon 0.10, alpha 0.10, \n",
      "Episode 10000/20000, reward 1944.0, random actions 6, actions 40, epsilon 0.10, alpha 0.10, \n",
      "Episode 11000/20000, reward 1958, random actions 2, actions 35, epsilon 0.10, alpha 0.10, \n",
      "Episode 12000/20000, reward 1952.0, random actions 5, actions 41, epsilon 0.10, alpha 0.10, \n",
      "Episode 13000/20000, reward 1955, random actions 3, actions 38, epsilon 0.10, alpha 0.10, \n",
      "Episode 14000/20000, reward 1956, random actions 2, actions 37, epsilon 0.10, alpha 0.10, \n",
      "Episode 15000/20000, reward 1959.0, random actions 1, actions 34, epsilon 0.10, alpha 0.10, \n",
      "Episode 16000/20000, reward 1958, random actions 1, actions 35, epsilon 0.10, alpha 0.10, \n",
      "Episode 17000/20000, reward 1959, random actions 1, actions 34, epsilon 0.10, alpha 0.10, \n",
      "Episode 18000/20000, reward 1949.0, random actions 3, actions 35, epsilon 0.10, alpha 0.10, \n",
      "Episode 19000/20000, reward 1958, random actions 3, actions 35, epsilon 0.10, alpha 0.10, \n"
     ]
    }
   ],
   "source": [
    "agent = QlearningAgent(env=env)\n",
    "\n",
    "qtable, rewards = agent.train(\n",
    "    episodes=20_000, \n",
    "    alpha=0.2, \n",
    "    alpha_min=0.1,\n",
    "    gamma=0.99,\n",
    "    epsilon=0.5,\n",
    "    epsilon_min=0.1,\n",
    "    decay=1e-6,\n",
    "    verbose=True\n",
    ")"
   ]
  },
  {
   "cell_type": "code",
   "execution_count": 125,
   "metadata": {},
   "outputs": [
    {
     "name": "stdout",
     "output_type": "stream",
     "text": [
      "958.0\n"
     ]
    }
   ],
   "source": [
    "eval_reward, frames, actions = agent.evaluate()\n",
    "print(eval_reward)"
   ]
  },
  {
   "cell_type": "code",
   "execution_count": 126,
   "metadata": {},
   "outputs": [
    {
     "name": "stdout",
     "output_type": "stream",
     "text": [
      "┌───┬───┬───┬───┬───┬───┬───┐\n",
      "│   │   │   │   │  P│   │   │\n",
      "│   │   │   │   │   │   │   │\n",
      "├───┼───┼───┼───┼───┼───┼───┤\n",
      "│   │   │  P│   │   │   │   │\n",
      "│   │   │   │   │   │   │   │\n",
      "├───┼───┼───┼───┼───┼───┼───┤\n",
      "│   │   │   │   │   │   │   │\n",
      "│   │   │   │   │   │   │   │\n",
      "├───┼───┼───┼───┼───┼───┼───┤\n",
      "│   │   │  P│   │   │   │  P│\n",
      "│   │   │   │   │   │   │   │\n",
      "├───┼───┼───┼───┼───┼───┼───┤\n",
      "│   │   │   │   │   │   │   │\n",
      "│   │   │   │   │   │   │   │\n",
      "├───┼───┼───┼───┼───┼───┼───┤\n",
      "│   │   │   │   │   │   │   │\n",
      "│   │   │   │   │   │   │   │\n",
      "├───┼───┼───┼───┼───┼───┼───┤\n",
      "│   │   │   │   │   │   │   │\n",
      "│ @V│   │   │   │   │   │   │\n",
      "└───┴───┴───┴───┴───┴───┴───┘\n",
      "CLIMB\n"
     ]
    }
   ],
   "source": [
    "import time\n",
    "from IPython import display\n",
    "\n",
    "for frame, action in zip(frames, actions):\n",
    "\n",
    "    action_name = id2actions[action.value]\n",
    "    \n",
    "    display.clear_output(wait=True)\n",
    "    print(frame)\n",
    "    print(action_name)\n",
    "\n",
    "    time.sleep(0.2)"
   ]
  },
  {
   "attachments": {},
   "cell_type": "markdown",
   "metadata": {},
   "source": [
    "# Check a particular state in learned qtable"
   ]
  },
  {
   "cell_type": "code",
   "execution_count": 114,
   "metadata": {},
   "outputs": [
    {
     "data": {
      "text/plain": [
       "array([1599.96988914, 1566.14008169, 1566.14047765, 1599.19154436,\n",
       "       1582.97018908,    0.        ])"
      ]
     },
     "execution_count": 114,
     "metadata": {},
     "output_type": "execute_result"
    }
   ],
   "source": [
    "from state_representation import StateRepresentation\n",
    "\n",
    "sr_idx = StateRepresentation(\n",
    "    agent_x_coord=0,\n",
    "    agent_y_coord=0, \n",
    "    agent_orientation=(0, 1), \n",
    "    has_agent_grabbed_gold=False,\n",
    "    has_agent_climbed_out=False, \n",
    "    has_agent_shot_arrow=False\n",
    ").get_index()\n",
    "\n",
    "\n",
    "qtable[sr_idx]"
   ]
  },
  {
   "cell_type": "code",
   "execution_count": null,
   "metadata": {},
   "outputs": [],
   "source": []
  }
 ],
 "metadata": {
  "kernelspec": {
   "display_name": "ailab2022",
   "language": "python",
   "name": "python3"
  },
  "language_info": {
   "codemirror_mode": {
    "name": "ipython",
    "version": 3
   },
   "file_extension": ".py",
   "mimetype": "text/x-python",
   "name": "python",
   "nbconvert_exporter": "python",
   "pygments_lexer": "ipython3",
   "version": "3.9.16"
  },
  "orig_nbformat": 4
 },
 "nbformat": 4,
 "nbformat_minor": 2
}
