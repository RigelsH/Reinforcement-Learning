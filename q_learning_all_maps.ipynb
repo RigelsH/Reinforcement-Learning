{
 "cells": [
  {
   "cell_type": "code",
   "execution_count": 1,
   "metadata": {},
   "outputs": [],
   "source": [
    "%load_ext autoreload\n",
    "%autoreload 2\n",
    "\n",
    "import json\n",
    "import random\n",
    "random.seed(42)\n",
    "import numpy as np\n",
    "\n",
    "import glob\n",
    "from collections import defaultdict\n",
    "import tracemalloc\n",
    "import time\n",
    "\n",
    "from gym_wumpus.envs import wumpusenv_from_dict\n",
    "from qlearning_agent import QlearningAgent"
   ]
  },
  {
   "cell_type": "code",
   "execution_count": 4,
   "metadata": {},
   "outputs": [
    {
     "name": "stdout",
     "output_type": "stream",
     "text": [
      "Map: map01 --- Reward: 963.0 --- Time usage: 220664.50 ms --- Memory Usage: 9703.81 KB\n",
      "Map: map02 --- Reward: -1.0 --- Time usage: 34303.87 ms --- Memory Usage: 1861.93 KB\n",
      "Map: map03 --- Reward: 968.0 --- Time usage: 198125.62 ms --- Memory Usage: 3381.36 KB\n",
      "Map: map04 --- Reward: 976.0 --- Time usage: 128735.31 ms --- Memory Usage: 2261.60 KB\n",
      "Map: map05 --- Reward: 959.0 --- Time usage: 228900.86 ms --- Memory Usage: 2036.55 KB\n",
      "Map: map06 --- Reward: 983.0 --- Time usage: 71894.31 ms --- Memory Usage: 1512.40 KB\n",
      "Map: map07 --- Reward: 977.0 --- Time usage: 125910.71 ms --- Memory Usage: 2730.86 KB\n",
      "Map: map08 --- Reward: 972.0 --- Time usage: 149077.22 ms --- Memory Usage: 1840.07 KB\n",
      "Map: map09 --- Reward: 970.0 --- Time usage: 165805.86 ms --- Memory Usage: 2376.16 KB\n",
      "Map: map10 --- Reward: -1.0 --- Time usage: 34929.06 ms --- Memory Usage: 2533.17 KB\n",
      "Map: map_kill_opt --- Reward: 980.0 --- Time usage: 84409.46 ms --- Memory Usage: 1573.95 KB\n",
      "Map: map_kill_to_grab --- Reward: 964.0 --- Time usage: 192993.35 ms --- Memory Usage: 3040.36 KB\n",
      "Map: map_split_subopt --- Reward: 973.0 --- Time usage: 144588.72 ms --- Memory Usage: 1722.85 KB\n"
     ]
    }
   ],
   "source": [
    "paths = glob.glob(\"data/*\")\n",
    "\n",
    "result = defaultdict()\n",
    "\n",
    "for path in sorted(paths):\n",
    "\n",
    "    with open(file=path) as fn:\n",
    "        world_json = json.load(fn)\n",
    "        tracemalloc.start()   # start tracing memory allocations\n",
    "        start_time = time.perf_counter()    \n",
    "\n",
    "        \n",
    "        env = wumpusenv_from_dict(world_json)\n",
    "\n",
    "        agent = QlearningAgent(env=env)\n",
    "\n",
    "        qtable, rewards = agent.train(\n",
    "            episodes=20000, \n",
    "            alpha=0.2, \n",
    "            alpha_min=0.1,\n",
    "            gamma=0.99, \n",
    "            epsilon=0.5,\n",
    "            epsilon_min=0.2,\n",
    "            decay=1e-6,\n",
    "            verbose=False\n",
    "        )\n",
    "\n",
    "        eval_reward, frames, actions = agent.evaluate()\n",
    "        current, peak = tracemalloc.get_traced_memory()   # get current and peak memory usage\n",
    "        tracemalloc.stop()\n",
    "        memory_usage = peak / (1024)\n",
    "        formatted_memory = \"{:.2f} KB\".format(memory_usage)  \n",
    "        end_time = time.perf_counter()    \n",
    "        elapsed_time = (end_time - start_time)*1000  \n",
    "        formatted_time = \"{:.2f} ms\".format(elapsed_time)\n",
    "        filename = path.split(\"\\\\\")[-1]\n",
    "        filename = filename.strip(\".json\")\n",
    "\n",
    "        print('Map:',filename,'---','Reward:',eval_reward,'---','Time usage:',formatted_time,'---','Memory Usage:',formatted_memory)\n",
    "        result[path] = eval_reward\n",
    "\n",
    "       "
   ]
  },
  {
   "cell_type": "code",
   "execution_count": null,
   "metadata": {},
   "outputs": [],
   "source": []
  }
 ],
 "metadata": {
  "kernelspec": {
   "display_name": "ailab2022",
   "language": "python",
   "name": "python3"
  },
  "language_info": {
   "codemirror_mode": {
    "name": "ipython",
    "version": 3
   },
   "file_extension": ".py",
   "mimetype": "text/x-python",
   "name": "python",
   "nbconvert_exporter": "python",
   "pygments_lexer": "ipython3",
   "version": "3.9.16"
  },
  "orig_nbformat": 4
 },
 "nbformat": 4,
 "nbformat_minor": 2
}
